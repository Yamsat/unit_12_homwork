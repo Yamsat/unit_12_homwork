{
 "cells": [
  {
   "cell_type": "code",
   "execution_count": 41,
   "id": "8fb5f0ee",
   "metadata": {},
   "outputs": [],
   "source": [
    "b = \"When I was+ / : 14, , I% go % to Disney+ Land.\""
   ]
  },
  {
   "cell_type": "code",
   "execution_count": 28,
   "id": "956cd01b",
   "metadata": {},
   "outputs": [],
   "source": [
    "import re"
   ]
  },
  {
   "cell_type": "code",
   "execution_count": 29,
   "id": "04ab1d7e",
   "metadata": {},
   "outputs": [],
   "source": [
    "c = re.sub(r'[.,]','', b)"
   ]
  },
  {
   "cell_type": "code",
   "execution_count": 30,
   "id": "f280501a",
   "metadata": {},
   "outputs": [
    {
     "data": {
      "text/plain": [
       "'When I was 14 I went to Disney Land'"
      ]
     },
     "execution_count": 30,
     "metadata": {},
     "output_type": "execute_result"
    }
   ],
   "source": [
    "c"
   ]
  },
  {
   "cell_type": "code",
   "execution_count": 31,
   "id": "b218ea2d",
   "metadata": {},
   "outputs": [],
   "source": [
    "from string import punctuation"
   ]
  },
  {
   "cell_type": "code",
   "execution_count": 32,
   "id": "d5fce589",
   "metadata": {},
   "outputs": [
    {
     "data": {
      "text/plain": [
       "'!\"#$%&\\'()*+,-./:;<=>?@[\\\\]^_`{|}~'"
      ]
     },
     "execution_count": 32,
     "metadata": {},
     "output_type": "execute_result"
    }
   ],
   "source": [
    "punctuation"
   ]
  },
  {
   "cell_type": "code",
   "execution_count": 42,
   "id": "507ef529",
   "metadata": {},
   "outputs": [
    {
     "data": {
      "text/plain": [
       "'When I was   14  I go  to Disney Land'"
      ]
     },
     "execution_count": 42,
     "metadata": {},
     "output_type": "execute_result"
    }
   ],
   "source": [
    "for i in punctuation:\n",
    "    b = b.replace(i, '')\n",
    "b        "
   ]
  },
  {
   "cell_type": "code",
   "execution_count": null,
   "id": "088ead4d",
   "metadata": {},
   "outputs": [],
   "source": []
  }
 ],
 "metadata": {
  "kernelspec": {
   "display_name": "Python [conda env:pyvizenv] *",
   "language": "python",
   "name": "conda-env-pyvizenv-py"
  },
  "language_info": {
   "codemirror_mode": {
    "name": "ipython",
    "version": 3
   },
   "file_extension": ".py",
   "mimetype": "text/x-python",
   "name": "python",
   "nbconvert_exporter": "python",
   "pygments_lexer": "ipython3",
   "version": "3.7.10"
  }
 },
 "nbformat": 4,
 "nbformat_minor": 5
}
